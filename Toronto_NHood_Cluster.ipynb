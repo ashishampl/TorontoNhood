{
    "nbformat_minor": 1, 
    "cells": [
        {
            "source": "##### First we import all libraries required for this notebook", 
            "cell_type": "markdown", 
            "metadata": {
                "collapsed": true
            }
        }, 
        {
            "execution_count": 24, 
            "cell_type": "code", 
            "metadata": {}, 
            "outputs": [], 
            "source": "import numpy as np # library to handle data in a vectorized manner\nimport pandas as pd # library for data analsysis\nimport requests\nfrom bs4 import BeautifulSoup"
        }, 
        {
            "source": "##### Read the Toronto postal code data from wiki\n##### Use the BeautifulSoup library to scrap the data", 
            "cell_type": "markdown", 
            "metadata": {}
        }, 
        {
            "execution_count": 25, 
            "cell_type": "code", 
            "metadata": {}, 
            "outputs": [], 
            "source": "toronto_neigh  = requests.get(\"https://en.wikipedia.org/wiki/List_of_postal_codes_of_Canada:_M\")\ntoronto_neigh_text = toronto_neigh.text\ntoronto_neigh_soup = BeautifulSoup(toronto_neigh_text, \"lxml\")"
        }, 
        {
            "source": "##### Create dataframe with 3 columns using pandas. ", 
            "cell_type": "markdown", 
            "metadata": {}
        }, 
        {
            "execution_count": 26, 
            "cell_type": "code", 
            "metadata": {}, 
            "outputs": [], 
            "source": "pd.options.display.max_rows = 999\ncolumn_names = ['PostalCode', 'Borough', 'Neighborhood'] \n# instantiate the dataframe\ntoronto_nhoods = pd.DataFrame(columns=column_names)"
        }, 
        {
            "source": "##### Scrap the data by reading the main table using its classname. \n##### Read all rows. If the row does not contain 3  td's then ignore this row as this row will not contain relevant data\n##### Check if value of Borough is 'Not assigned'. If it is, then ignore this row.\n##### If the value of Borough is 'Not assigned' but the value of Neighborhood is 'Not assigned', then assign value of Burrough to Neighborhood for this row.\n##### FILL the dataframe with data for 3 columns", 
            "cell_type": "markdown", 
            "metadata": {}
        }, 
        {
            "execution_count": 27, 
            "cell_type": "code", 
            "metadata": {}, 
            "outputs": [], 
            "source": "table_main = toronto_neigh_soup.find('table', class_='wikitable sortable')\n\ntablebody_main = table_main.find('tbody')\n#print(tablebody_main)\ntablerows_all = tablebody_main.find_all('tr')\n\nfor row in tablerows_all:\n    td_postalcode = row.find_all('td')\n    \n    if len(td_postalcode) == 3:\n        if \"Not assigned\" not in td_postalcode[1]:\n            \n            if (td_postalcode[2].text.replace(\"\\n\",\"\") == \"Not assigned\"):\n                nName = td_postalcode[1].text\n            else:\n                nName = td_postalcode[2].text.replace(\"\\n\",\"\")\n                                \n            toronto_nhoods = toronto_nhoods.append({'PostalCode': td_postalcode[0].text ,\n                                                  'Borough': td_postalcode[1].text ,\n                                                  'Neighborhood': nName,\n                                                      }, ignore_index=True)\n    \n    \n    "
        }, 
        {
            "source": "##### Verify the data", 
            "cell_type": "markdown", 
            "metadata": {}
        }, 
        {
            "execution_count": 29, 
            "cell_type": "code", 
            "metadata": {
                "scrolled": false
            }, 
            "outputs": [
                {
                    "execution_count": 29, 
                    "metadata": {}, 
                    "data": {
                        "text/html": "<div>\n<style scoped>\n    .dataframe tbody tr th:only-of-type {\n        vertical-align: middle;\n    }\n\n    .dataframe tbody tr th {\n        vertical-align: top;\n    }\n\n    .dataframe thead th {\n        text-align: right;\n    }\n</style>\n<table border=\"1\" class=\"dataframe\">\n  <thead>\n    <tr style=\"text-align: right;\">\n      <th></th>\n      <th>PostalCode</th>\n      <th>Borough</th>\n      <th>Neighborhood</th>\n    </tr>\n  </thead>\n  <tbody>\n    <tr>\n      <th>0</th>\n      <td>M3A</td>\n      <td>North York</td>\n      <td>Parkwoods</td>\n    </tr>\n    <tr>\n      <th>1</th>\n      <td>M4A</td>\n      <td>North York</td>\n      <td>Victoria Village</td>\n    </tr>\n    <tr>\n      <th>2</th>\n      <td>M5A</td>\n      <td>Downtown Toronto</td>\n      <td>Harbourfront</td>\n    </tr>\n    <tr>\n      <th>3</th>\n      <td>M5A</td>\n      <td>Downtown Toronto</td>\n      <td>Regent Park</td>\n    </tr>\n    <tr>\n      <th>4</th>\n      <td>M6A</td>\n      <td>North York</td>\n      <td>Lawrence Heights</td>\n    </tr>\n    <tr>\n      <th>5</th>\n      <td>M6A</td>\n      <td>North York</td>\n      <td>Lawrence Manor</td>\n    </tr>\n    <tr>\n      <th>6</th>\n      <td>M7A</td>\n      <td>Queen's Park</td>\n      <td>Queen's Park</td>\n    </tr>\n    <tr>\n      <th>7</th>\n      <td>M9A</td>\n      <td>Etobicoke</td>\n      <td>Islington Avenue</td>\n    </tr>\n    <tr>\n      <th>8</th>\n      <td>M1B</td>\n      <td>Scarborough</td>\n      <td>Rouge</td>\n    </tr>\n    <tr>\n      <th>9</th>\n      <td>M1B</td>\n      <td>Scarborough</td>\n      <td>Malvern</td>\n    </tr>\n    <tr>\n      <th>10</th>\n      <td>M3B</td>\n      <td>North York</td>\n      <td>Don Mills North</td>\n    </tr>\n    <tr>\n      <th>11</th>\n      <td>M4B</td>\n      <td>East York</td>\n      <td>Woodbine Gardens</td>\n    </tr>\n    <tr>\n      <th>12</th>\n      <td>M4B</td>\n      <td>East York</td>\n      <td>Parkview Hill</td>\n    </tr>\n    <tr>\n      <th>13</th>\n      <td>M5B</td>\n      <td>Downtown Toronto</td>\n      <td>Ryerson</td>\n    </tr>\n    <tr>\n      <th>14</th>\n      <td>M5B</td>\n      <td>Downtown Toronto</td>\n      <td>Garden District</td>\n    </tr>\n    <tr>\n      <th>15</th>\n      <td>M6B</td>\n      <td>North York</td>\n      <td>Glencairn</td>\n    </tr>\n    <tr>\n      <th>16</th>\n      <td>M9B</td>\n      <td>Etobicoke</td>\n      <td>Cloverdale</td>\n    </tr>\n    <tr>\n      <th>17</th>\n      <td>M9B</td>\n      <td>Etobicoke</td>\n      <td>Islington</td>\n    </tr>\n    <tr>\n      <th>18</th>\n      <td>M9B</td>\n      <td>Etobicoke</td>\n      <td>Martin Grove</td>\n    </tr>\n    <tr>\n      <th>19</th>\n      <td>M9B</td>\n      <td>Etobicoke</td>\n      <td>Princess Gardens</td>\n    </tr>\n    <tr>\n      <th>20</th>\n      <td>M9B</td>\n      <td>Etobicoke</td>\n      <td>West Deane Park</td>\n    </tr>\n    <tr>\n      <th>21</th>\n      <td>M1C</td>\n      <td>Scarborough</td>\n      <td>Highland Creek</td>\n    </tr>\n    <tr>\n      <th>22</th>\n      <td>M1C</td>\n      <td>Scarborough</td>\n      <td>Rouge Hill</td>\n    </tr>\n    <tr>\n      <th>23</th>\n      <td>M1C</td>\n      <td>Scarborough</td>\n      <td>Port Union</td>\n    </tr>\n    <tr>\n      <th>24</th>\n      <td>M3C</td>\n      <td>North York</td>\n      <td>Flemingdon Park</td>\n    </tr>\n    <tr>\n      <th>25</th>\n      <td>M3C</td>\n      <td>North York</td>\n      <td>Don Mills South</td>\n    </tr>\n    <tr>\n      <th>26</th>\n      <td>M4C</td>\n      <td>East York</td>\n      <td>Woodbine Heights</td>\n    </tr>\n    <tr>\n      <th>27</th>\n      <td>M5C</td>\n      <td>Downtown Toronto</td>\n      <td>St. James Town</td>\n    </tr>\n    <tr>\n      <th>28</th>\n      <td>M6C</td>\n      <td>York</td>\n      <td>Humewood-Cedarvale</td>\n    </tr>\n    <tr>\n      <th>29</th>\n      <td>M9C</td>\n      <td>Etobicoke</td>\n      <td>Bloordale Gardens</td>\n    </tr>\n    <tr>\n      <th>30</th>\n      <td>M9C</td>\n      <td>Etobicoke</td>\n      <td>Eringate</td>\n    </tr>\n    <tr>\n      <th>31</th>\n      <td>M9C</td>\n      <td>Etobicoke</td>\n      <td>Markland Wood</td>\n    </tr>\n    <tr>\n      <th>32</th>\n      <td>M9C</td>\n      <td>Etobicoke</td>\n      <td>Old Burnhamthorpe</td>\n    </tr>\n    <tr>\n      <th>33</th>\n      <td>M1E</td>\n      <td>Scarborough</td>\n      <td>Guildwood</td>\n    </tr>\n    <tr>\n      <th>34</th>\n      <td>M1E</td>\n      <td>Scarborough</td>\n      <td>Morningside</td>\n    </tr>\n    <tr>\n      <th>35</th>\n      <td>M1E</td>\n      <td>Scarborough</td>\n      <td>West Hill</td>\n    </tr>\n    <tr>\n      <th>36</th>\n      <td>M4E</td>\n      <td>East Toronto</td>\n      <td>The Beaches</td>\n    </tr>\n    <tr>\n      <th>37</th>\n      <td>M5E</td>\n      <td>Downtown Toronto</td>\n      <td>Berczy Park</td>\n    </tr>\n    <tr>\n      <th>38</th>\n      <td>M6E</td>\n      <td>York</td>\n      <td>Caledonia-Fairbanks</td>\n    </tr>\n    <tr>\n      <th>39</th>\n      <td>M1G</td>\n      <td>Scarborough</td>\n      <td>Woburn</td>\n    </tr>\n    <tr>\n      <th>40</th>\n      <td>M4G</td>\n      <td>East York</td>\n      <td>Leaside</td>\n    </tr>\n    <tr>\n      <th>41</th>\n      <td>M5G</td>\n      <td>Downtown Toronto</td>\n      <td>Central Bay Street</td>\n    </tr>\n    <tr>\n      <th>42</th>\n      <td>M6G</td>\n      <td>Downtown Toronto</td>\n      <td>Christie</td>\n    </tr>\n    <tr>\n      <th>43</th>\n      <td>M1H</td>\n      <td>Scarborough</td>\n      <td>Cedarbrae</td>\n    </tr>\n    <tr>\n      <th>44</th>\n      <td>M2H</td>\n      <td>North York</td>\n      <td>Hillcrest Village</td>\n    </tr>\n    <tr>\n      <th>45</th>\n      <td>M3H</td>\n      <td>North York</td>\n      <td>Bathurst Manor</td>\n    </tr>\n    <tr>\n      <th>46</th>\n      <td>M3H</td>\n      <td>North York</td>\n      <td>Downsview North</td>\n    </tr>\n    <tr>\n      <th>47</th>\n      <td>M3H</td>\n      <td>North York</td>\n      <td>Wilson Heights</td>\n    </tr>\n    <tr>\n      <th>48</th>\n      <td>M4H</td>\n      <td>East York</td>\n      <td>Thorncliffe Park</td>\n    </tr>\n    <tr>\n      <th>49</th>\n      <td>M5H</td>\n      <td>Downtown Toronto</td>\n      <td>Adelaide</td>\n    </tr>\n  </tbody>\n</table>\n</div>", 
                        "text/plain": "   PostalCode           Borough         Neighborhood\n0         M3A        North York            Parkwoods\n1         M4A        North York     Victoria Village\n2         M5A  Downtown Toronto         Harbourfront\n3         M5A  Downtown Toronto          Regent Park\n4         M6A        North York     Lawrence Heights\n5         M6A        North York       Lawrence Manor\n6         M7A      Queen's Park         Queen's Park\n7         M9A         Etobicoke     Islington Avenue\n8         M1B       Scarborough                Rouge\n9         M1B       Scarborough              Malvern\n10        M3B        North York      Don Mills North\n11        M4B         East York     Woodbine Gardens\n12        M4B         East York        Parkview Hill\n13        M5B  Downtown Toronto              Ryerson\n14        M5B  Downtown Toronto      Garden District\n15        M6B        North York            Glencairn\n16        M9B         Etobicoke           Cloverdale\n17        M9B         Etobicoke            Islington\n18        M9B         Etobicoke         Martin Grove\n19        M9B         Etobicoke     Princess Gardens\n20        M9B         Etobicoke      West Deane Park\n21        M1C       Scarborough       Highland Creek\n22        M1C       Scarborough           Rouge Hill\n23        M1C       Scarborough           Port Union\n24        M3C        North York      Flemingdon Park\n25        M3C        North York      Don Mills South\n26        M4C         East York     Woodbine Heights\n27        M5C  Downtown Toronto       St. James Town\n28        M6C              York   Humewood-Cedarvale\n29        M9C         Etobicoke    Bloordale Gardens\n30        M9C         Etobicoke             Eringate\n31        M9C         Etobicoke        Markland Wood\n32        M9C         Etobicoke    Old Burnhamthorpe\n33        M1E       Scarborough            Guildwood\n34        M1E       Scarborough          Morningside\n35        M1E       Scarborough            West Hill\n36        M4E      East Toronto          The Beaches\n37        M5E  Downtown Toronto          Berczy Park\n38        M6E              York  Caledonia-Fairbanks\n39        M1G       Scarborough               Woburn\n40        M4G         East York              Leaside\n41        M5G  Downtown Toronto   Central Bay Street\n42        M6G  Downtown Toronto             Christie\n43        M1H       Scarborough            Cedarbrae\n44        M2H        North York    Hillcrest Village\n45        M3H        North York       Bathurst Manor\n46        M3H        North York      Downsview North\n47        M3H        North York       Wilson Heights\n48        M4H         East York     Thorncliffe Park\n49        M5H  Downtown Toronto             Adelaide"
                    }, 
                    "output_type": "execute_result"
                }
            ], 
            "source": "toronto_nhoods.head(50)"
        }, 
        {
            "source": "##### We want to group the data by Postalcode, Borough and then concatenate (join) Neighborhood column so that we get a unique row for each Postalcode/Borough ", 
            "cell_type": "markdown", 
            "metadata": {}
        }, 
        {
            "execution_count": 30, 
            "cell_type": "code", 
            "metadata": {}, 
            "outputs": [
                {
                    "execution_count": 30, 
                    "metadata": {}, 
                    "data": {
                        "text/html": "<div>\n<style scoped>\n    .dataframe tbody tr th:only-of-type {\n        vertical-align: middle;\n    }\n\n    .dataframe tbody tr th {\n        vertical-align: top;\n    }\n\n    .dataframe thead th {\n        text-align: right;\n    }\n</style>\n<table border=\"1\" class=\"dataframe\">\n  <thead>\n    <tr style=\"text-align: right;\">\n      <th></th>\n      <th>PostalCode</th>\n      <th>Borough</th>\n      <th>Neighborhood</th>\n    </tr>\n  </thead>\n  <tbody>\n    <tr>\n      <th>0</th>\n      <td>M1B</td>\n      <td>Scarborough</td>\n      <td>Rouge,Malvern</td>\n    </tr>\n    <tr>\n      <th>1</th>\n      <td>M1C</td>\n      <td>Scarborough</td>\n      <td>Highland Creek,Rouge Hill,Port Union</td>\n    </tr>\n    <tr>\n      <th>2</th>\n      <td>M1E</td>\n      <td>Scarborough</td>\n      <td>Guildwood,Morningside,West Hill</td>\n    </tr>\n    <tr>\n      <th>3</th>\n      <td>M1G</td>\n      <td>Scarborough</td>\n      <td>Woburn</td>\n    </tr>\n    <tr>\n      <th>4</th>\n      <td>M1H</td>\n      <td>Scarborough</td>\n      <td>Cedarbrae</td>\n    </tr>\n  </tbody>\n</table>\n</div>", 
                        "text/plain": "  PostalCode      Borough                          Neighborhood\n0        M1B  Scarborough                         Rouge,Malvern\n1        M1C  Scarborough  Highland Creek,Rouge Hill,Port Union\n2        M1E  Scarborough       Guildwood,Morningside,West Hill\n3        M1G  Scarborough                                Woburn\n4        M1H  Scarborough                             Cedarbrae"
                    }, 
                    "output_type": "execute_result"
                }
            ], 
            "source": "toronto_nhood_grouped = toronto_nhoods.groupby(['PostalCode', 'Borough'])['Neighborhood'].apply(lambda x: ','.join(x)).reset_index()\ntoronto_nhood_grouped.head()"
        }, 
        {
            "source": "##### Use the shape method to get the number of rows and columns in the dataframe\n##### There are 103 rows and 3 columns", 
            "cell_type": "markdown", 
            "metadata": {}
        }, 
        {
            "execution_count": 31, 
            "cell_type": "code", 
            "metadata": {}, 
            "outputs": [
                {
                    "execution_count": 31, 
                    "metadata": {}, 
                    "data": {
                        "text/plain": "(103, 3)"
                    }, 
                    "output_type": "execute_result"
                }
            ], 
            "source": "toronto_nhood_grouped.shape"
        }
    ], 
    "metadata": {
        "kernelspec": {
            "display_name": "Python 3.5", 
            "name": "python3", 
            "language": "python"
        }, 
        "language_info": {
            "mimetype": "text/x-python", 
            "nbconvert_exporter": "python", 
            "version": "3.5.5", 
            "name": "python", 
            "file_extension": ".py", 
            "pygments_lexer": "ipython3", 
            "codemirror_mode": {
                "version": 3, 
                "name": "ipython"
            }
        }
    }, 
    "nbformat": 4
}